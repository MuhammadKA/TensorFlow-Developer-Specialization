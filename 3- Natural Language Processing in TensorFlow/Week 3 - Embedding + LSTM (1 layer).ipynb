{
  "nbformat": 4,
  "nbformat_minor": 0,
  "metadata": {
    "accelerator": "GPU",
    "colab": {
      "name": "Course 3 - Week 3 - Lesson 2.ipynb",
      "provenance": [],
      "collapsed_sections": [],
      "toc_visible": true
    },
    "kernelspec": {
      "display_name": "Python 3",
      "language": "python",
      "name": "python3"
    },
    "language_info": {
      "codemirror_mode": {
        "name": "ipython",
        "version": 3
      },
      "file_extension": ".py",
      "mimetype": "text/x-python",
      "name": "python",
      "nbconvert_exporter": "python",
      "pygments_lexer": "ipython3",
      "version": "3.7.6"
    }
  },
  "cells": [
    {
      "cell_type": "code",
      "metadata": {
        "id": "zX4Kg8DUTKWO"
      },
      "source": [
        "#@title Licensed under the Apache License, Version 2.0 (the \"License\");\n",
        "# you may not use this file except in compliance with the License.\n",
        "# You may obtain a copy of the License at\n",
        "#\n",
        "# https://www.apache.org/licenses/LICENSE-2.0\n",
        "#\n",
        "# Unless required by applicable law or agreed to in writing, software\n",
        "# distributed under the License is distributed on an \"AS IS\" BASIS,\n",
        "# WITHOUT WARRANTIES OR CONDITIONS OF ANY KIND, either express or implied.\n",
        "# See the License for the specific language governing permissions and\n",
        "# limitations under the License."
      ],
      "execution_count": 1,
      "outputs": []
    },
    {
      "cell_type": "markdown",
      "metadata": {
        "id": "CSRE5Ojf7RLx"
      },
      "source": [
        "<a href=\"https://colab.research.google.com/github/lmoroney/dlaicourse/blob/master/TensorFlow%20In%20Practice/Course%203%20-%20NLP/Course%203%20-%20Week%203%20-%20Lesson%202.ipynb\" target=\"_parent\"><img src=\"https://colab.research.google.com/assets/colab-badge.svg\" alt=\"Open In Colab\"/></a>"
      ]
    },
    {
      "cell_type": "code",
      "metadata": {
        "colab": {
          "base_uri": "https://localhost:8080/"
        },
        "id": "jGwXGIXvFhXW",
        "outputId": "aae1ab34-9c4c-47cc-80bc-8e91becd895d"
      },
      "source": [
        "import numpy as np\n",
        "\n",
        "import json\n",
        "import tensorflow as tf\n",
        "\n",
        "from tensorflow.keras.preprocessing.text import Tokenizer\n",
        "from tensorflow.keras.preprocessing.sequence import pad_sequences\n",
        "\n",
        "!wget --no-check-certificate \\\n",
        "    https://storage.googleapis.com/laurencemoroney-blog.appspot.com/sarcasm.json \\\n",
        "    -O /tmp/sarcasm.json\n",
        "\n",
        "vocab_size = 1000\n",
        "embedding_dim = 16\n",
        "max_length = 120\n",
        "trunc_type='post'\n",
        "padding_type='post'\n",
        "oov_tok = \"<OOV>\"\n",
        "training_size = 20000\n",
        "\n",
        "\n",
        "with open(\"/tmp/sarcasm.json\", 'r') as f:\n",
        "    datastore = json.load(f)\n",
        "\n",
        "\n",
        "sentences = []\n",
        "labels = []\n",
        "urls = []\n",
        "for item in datastore:\n",
        "    sentences.append(item['headline'])\n",
        "    labels.append(item['is_sarcastic'])\n",
        "\n",
        "training_sentences = sentences[0:training_size]\n",
        "testing_sentences = sentences[training_size:]\n",
        "training_labels = labels[0:training_size]\n",
        "testing_labels = labels[training_size:]\n",
        "\n",
        "tokenizer = Tokenizer(num_words=vocab_size, oov_token=oov_tok)\n",
        "tokenizer.fit_on_texts(training_sentences)\n",
        "\n",
        "word_index = tokenizer.word_index\n",
        "\n",
        "training_sequences = tokenizer.texts_to_sequences(training_sentences)\n",
        "training_padded = pad_sequences(training_sequences, maxlen=max_length, padding=padding_type, truncating=trunc_type)\n",
        "\n",
        "testing_sequences = tokenizer.texts_to_sequences(testing_sentences)\n",
        "testing_padded = pad_sequences(testing_sequences, maxlen=max_length, padding=padding_type, truncating=trunc_type)\n",
        "\n",
        "model = tf.keras.Sequential([\n",
        "    # Embedding Layer is where the magic happens, where vectors for similar\n",
        "    # sentences are found next to each other in a multidimensional space\n",
        "    tf.keras.layers.Embedding(vocab_size, embedding_dim, input_length=max_length),\n",
        "    tf.keras.layers.Bidirectional(tf.keras.layers.LSTM(32)),\n",
        "    tf.keras.layers.Dense(24, activation='relu'),\n",
        "    tf.keras.layers.Dense(1, activation='sigmoid')\n",
        "])\n",
        "model.compile(loss='binary_crossentropy',optimizer='adam',metrics=['accuracy'])\n",
        "model.summary()\n",
        "\n",
        "num_epochs = 50\n",
        "training_padded = np.array(training_padded)\n",
        "training_labels = np.array(training_labels)\n",
        "testing_padded = np.array(testing_padded)\n",
        "testing_labels = np.array(testing_labels)\n",
        "history = model.fit(training_padded, training_labels, epochs=num_epochs, validation_data=(testing_padded, testing_labels), verbose=1)\n"
      ],
      "execution_count": 2,
      "outputs": [
        {
          "output_type": "stream",
          "text": [
            "--2020-12-22 19:52:47--  https://storage.googleapis.com/laurencemoroney-blog.appspot.com/sarcasm.json\n",
            "Resolving storage.googleapis.com (storage.googleapis.com)... 172.217.164.176, 172.217.15.112, 172.217.2.112, ...\n",
            "Connecting to storage.googleapis.com (storage.googleapis.com)|172.217.164.176|:443... connected.\n",
            "HTTP request sent, awaiting response... 200 OK\n",
            "Length: 5643545 (5.4M) [application/json]\n",
            "Saving to: ‘/tmp/sarcasm.json’\n",
            "\n",
            "\r/tmp/sarcasm.json     0%[                    ]       0  --.-KB/s               \r/tmp/sarcasm.json   100%[===================>]   5.38M  --.-KB/s    in 0.02s   \n",
            "\n",
            "2020-12-22 19:52:47 (239 MB/s) - ‘/tmp/sarcasm.json’ saved [5643545/5643545]\n",
            "\n",
            "Model: \"sequential\"\n",
            "_________________________________________________________________\n",
            "Layer (type)                 Output Shape              Param #   \n",
            "=================================================================\n",
            "embedding (Embedding)        (None, 120, 16)           16000     \n",
            "_________________________________________________________________\n",
            "bidirectional (Bidirectional (None, 64)                12544     \n",
            "_________________________________________________________________\n",
            "dense (Dense)                (None, 24)                1560      \n",
            "_________________________________________________________________\n",
            "dense_1 (Dense)              (None, 1)                 25        \n",
            "=================================================================\n",
            "Total params: 30,129\n",
            "Trainable params: 30,129\n",
            "Non-trainable params: 0\n",
            "_________________________________________________________________\n",
            "Epoch 1/50\n",
            "625/625 [==============================] - 19s 16ms/step - loss: 0.5405 - accuracy: 0.6927 - val_loss: 0.3949 - val_accuracy: 0.8164\n",
            "Epoch 2/50\n",
            "625/625 [==============================] - 9s 14ms/step - loss: 0.3561 - accuracy: 0.8360 - val_loss: 0.3776 - val_accuracy: 0.8274\n",
            "Epoch 3/50\n",
            "625/625 [==============================] - 9s 15ms/step - loss: 0.3306 - accuracy: 0.8502 - val_loss: 0.3700 - val_accuracy: 0.8317\n",
            "Epoch 4/50\n",
            "625/625 [==============================] - 9s 15ms/step - loss: 0.3040 - accuracy: 0.8627 - val_loss: 0.3743 - val_accuracy: 0.8277\n",
            "Epoch 5/50\n",
            "625/625 [==============================] - 9s 15ms/step - loss: 0.2939 - accuracy: 0.8713 - val_loss: 0.3836 - val_accuracy: 0.8277\n",
            "Epoch 6/50\n",
            "625/625 [==============================] - 9s 15ms/step - loss: 0.2931 - accuracy: 0.8735 - val_loss: 0.3831 - val_accuracy: 0.8325\n",
            "Epoch 7/50\n",
            "625/625 [==============================] - 9s 15ms/step - loss: 0.2701 - accuracy: 0.8825 - val_loss: 0.3797 - val_accuracy: 0.8308\n",
            "Epoch 8/50\n",
            "625/625 [==============================] - 9s 14ms/step - loss: 0.2668 - accuracy: 0.8862 - val_loss: 0.3844 - val_accuracy: 0.8314\n",
            "Epoch 9/50\n",
            "625/625 [==============================] - 9s 15ms/step - loss: 0.2575 - accuracy: 0.8914 - val_loss: 0.3910 - val_accuracy: 0.8313\n",
            "Epoch 10/50\n",
            "625/625 [==============================] - 9s 15ms/step - loss: 0.2530 - accuracy: 0.8937 - val_loss: 0.4022 - val_accuracy: 0.8250\n",
            "Epoch 11/50\n",
            "625/625 [==============================] - 9s 15ms/step - loss: 0.2468 - accuracy: 0.8933 - val_loss: 0.4005 - val_accuracy: 0.8280\n",
            "Epoch 12/50\n",
            "625/625 [==============================] - 10s 15ms/step - loss: 0.2392 - accuracy: 0.8960 - val_loss: 0.4171 - val_accuracy: 0.8234\n",
            "Epoch 13/50\n",
            "625/625 [==============================] - 9s 15ms/step - loss: 0.2349 - accuracy: 0.8992 - val_loss: 0.4105 - val_accuracy: 0.8264\n",
            "Epoch 14/50\n",
            "625/625 [==============================] - 9s 15ms/step - loss: 0.2221 - accuracy: 0.9034 - val_loss: 0.4469 - val_accuracy: 0.8246\n",
            "Epoch 15/50\n",
            "625/625 [==============================] - 9s 15ms/step - loss: 0.2124 - accuracy: 0.9115 - val_loss: 0.4706 - val_accuracy: 0.8201\n",
            "Epoch 16/50\n",
            "625/625 [==============================] - 9s 15ms/step - loss: 0.2052 - accuracy: 0.9143 - val_loss: 0.4754 - val_accuracy: 0.8210\n",
            "Epoch 17/50\n",
            "625/625 [==============================] - 9s 15ms/step - loss: 0.1994 - accuracy: 0.9153 - val_loss: 0.4846 - val_accuracy: 0.8198\n",
            "Epoch 18/50\n",
            "625/625 [==============================] - 9s 15ms/step - loss: 0.1887 - accuracy: 0.9221 - val_loss: 0.5055 - val_accuracy: 0.8214\n",
            "Epoch 19/50\n",
            "625/625 [==============================] - 9s 15ms/step - loss: 0.1828 - accuracy: 0.9258 - val_loss: 0.5425 - val_accuracy: 0.8177\n",
            "Epoch 20/50\n",
            "625/625 [==============================] - 9s 15ms/step - loss: 0.1749 - accuracy: 0.9294 - val_loss: 0.5435 - val_accuracy: 0.8177\n",
            "Epoch 21/50\n",
            "625/625 [==============================] - 9s 15ms/step - loss: 0.1712 - accuracy: 0.9313 - val_loss: 0.5600 - val_accuracy: 0.8143\n",
            "Epoch 22/50\n",
            "625/625 [==============================] - 9s 15ms/step - loss: 0.1631 - accuracy: 0.9336 - val_loss: 0.6380 - val_accuracy: 0.8068\n",
            "Epoch 23/50\n",
            "625/625 [==============================] - 9s 14ms/step - loss: 0.1553 - accuracy: 0.9408 - val_loss: 0.7001 - val_accuracy: 0.8065\n",
            "Epoch 24/50\n",
            "625/625 [==============================] - 9s 14ms/step - loss: 0.1487 - accuracy: 0.9391 - val_loss: 0.7079 - val_accuracy: 0.8106\n",
            "Epoch 25/50\n",
            "625/625 [==============================] - 9s 14ms/step - loss: 0.1439 - accuracy: 0.9416 - val_loss: 0.7392 - val_accuracy: 0.8083\n",
            "Epoch 26/50\n",
            "625/625 [==============================] - 9s 15ms/step - loss: 0.1360 - accuracy: 0.9443 - val_loss: 0.8279 - val_accuracy: 0.8015\n",
            "Epoch 27/50\n",
            "625/625 [==============================] - 9s 15ms/step - loss: 0.1288 - accuracy: 0.9515 - val_loss: 0.7668 - val_accuracy: 0.7989\n",
            "Epoch 28/50\n",
            "625/625 [==============================] - 9s 15ms/step - loss: 0.1225 - accuracy: 0.9506 - val_loss: 0.8922 - val_accuracy: 0.8009\n",
            "Epoch 29/50\n",
            "625/625 [==============================] - 9s 14ms/step - loss: 0.1202 - accuracy: 0.9516 - val_loss: 0.9552 - val_accuracy: 0.7985\n",
            "Epoch 30/50\n",
            "625/625 [==============================] - 9s 15ms/step - loss: 0.1088 - accuracy: 0.9547 - val_loss: 0.9590 - val_accuracy: 0.8018\n",
            "Epoch 31/50\n",
            "625/625 [==============================] - 9s 15ms/step - loss: 0.1092 - accuracy: 0.9562 - val_loss: 0.9692 - val_accuracy: 0.8049\n",
            "Epoch 32/50\n",
            "625/625 [==============================] - 9s 15ms/step - loss: 0.1018 - accuracy: 0.9591 - val_loss: 1.0381 - val_accuracy: 0.8018\n",
            "Epoch 33/50\n",
            "625/625 [==============================] - 9s 14ms/step - loss: 0.0918 - accuracy: 0.9633 - val_loss: 1.1580 - val_accuracy: 0.7965\n",
            "Epoch 34/50\n",
            "625/625 [==============================] - 9s 15ms/step - loss: 0.0880 - accuracy: 0.9644 - val_loss: 1.2578 - val_accuracy: 0.8030\n",
            "Epoch 35/50\n",
            "625/625 [==============================] - 9s 15ms/step - loss: 0.0836 - accuracy: 0.9658 - val_loss: 1.1810 - val_accuracy: 0.7964\n",
            "Epoch 36/50\n",
            "625/625 [==============================] - 9s 15ms/step - loss: 0.0877 - accuracy: 0.9641 - val_loss: 1.2689 - val_accuracy: 0.7995\n",
            "Epoch 37/50\n",
            "625/625 [==============================] - 9s 15ms/step - loss: 0.0812 - accuracy: 0.9653 - val_loss: 1.3838 - val_accuracy: 0.8018\n",
            "Epoch 38/50\n",
            "625/625 [==============================] - 9s 15ms/step - loss: 0.0745 - accuracy: 0.9701 - val_loss: 1.4679 - val_accuracy: 0.8001\n",
            "Epoch 39/50\n",
            "625/625 [==============================] - 9s 15ms/step - loss: 0.0714 - accuracy: 0.9698 - val_loss: 1.4582 - val_accuracy: 0.8009\n",
            "Epoch 40/50\n",
            "625/625 [==============================] - 9s 15ms/step - loss: 0.0690 - accuracy: 0.9720 - val_loss: 1.5536 - val_accuracy: 0.7971\n",
            "Epoch 41/50\n",
            "625/625 [==============================] - 9s 15ms/step - loss: 0.0703 - accuracy: 0.9705 - val_loss: 1.5767 - val_accuracy: 0.7982\n",
            "Epoch 42/50\n",
            "625/625 [==============================] - 9s 15ms/step - loss: 0.0596 - accuracy: 0.9754 - val_loss: 1.6356 - val_accuracy: 0.7925\n",
            "Epoch 43/50\n",
            "625/625 [==============================] - 9s 15ms/step - loss: 0.0675 - accuracy: 0.9733 - val_loss: 1.6835 - val_accuracy: 0.7956\n",
            "Epoch 44/50\n",
            "625/625 [==============================] - 9s 15ms/step - loss: 0.0624 - accuracy: 0.9744 - val_loss: 1.6303 - val_accuracy: 0.7951\n",
            "Epoch 45/50\n",
            "625/625 [==============================] - 9s 15ms/step - loss: 0.0692 - accuracy: 0.9755 - val_loss: 1.6973 - val_accuracy: 0.7964\n",
            "Epoch 46/50\n",
            "625/625 [==============================] - 10s 15ms/step - loss: 0.0631 - accuracy: 0.9746 - val_loss: 1.7436 - val_accuracy: 0.7971\n",
            "Epoch 47/50\n",
            "625/625 [==============================] - 9s 15ms/step - loss: 0.0559 - accuracy: 0.9779 - val_loss: 1.6481 - val_accuracy: 0.7986\n",
            "Epoch 48/50\n",
            "625/625 [==============================] - 9s 15ms/step - loss: 0.0517 - accuracy: 0.9792 - val_loss: 1.7989 - val_accuracy: 0.8010\n",
            "Epoch 49/50\n",
            "625/625 [==============================] - 9s 15ms/step - loss: 0.0540 - accuracy: 0.9776 - val_loss: 1.7111 - val_accuracy: 0.7998\n",
            "Epoch 50/50\n",
            "625/625 [==============================] - 9s 15ms/step - loss: 0.0588 - accuracy: 0.9754 - val_loss: 1.9093 - val_accuracy: 0.7967\n"
          ],
          "name": "stdout"
        }
      ]
    },
    {
      "cell_type": "code",
      "metadata": {
        "colab": {
          "base_uri": "https://localhost:8080/",
          "height": 545
        },
        "id": "g9DC6dmLF8DC",
        "outputId": "3fa0c9fa-b793-45f2-9e82-bb6746a8b71f"
      },
      "source": [
        "import matplotlib.pyplot as plt\n",
        "\n",
        "\n",
        "def plot_graphs(history, string):\n",
        "  plt.plot(history.history[string])\n",
        "  plt.plot(history.history['val_'+string])\n",
        "  plt.xlabel(\"Epochs\")\n",
        "  plt.ylabel(string)\n",
        "  plt.legend([string, 'val_'+string])\n",
        "  plt.show()\n",
        "\n",
        "plot_graphs(history, 'accuracy')\n",
        "plot_graphs(history, 'loss')"
      ],
      "execution_count": 3,
      "outputs": [
        {
          "output_type": "display_data",
          "data": {
            "image/png": "[encoded data removed]",
            "text/plain": [
              "<Figure size 432x288 with 1 Axes>"
            ]
          },
          "metadata": {
            "tags": [],
            "needs_background": "light"
          }
        },
        {
          "output_type": "display_data",
          "data": {
            "image/png": "[encoded data removed]",
            "text/plain": [
              "<Figure size 432x288 with 1 Axes>"
            ]
          },
          "metadata": {
            "tags": [],
            "needs_background": "light"
          }
        }
      ]
    },
    {
      "cell_type": "code",
      "metadata": {
        "id": "7ZEZIUppGhdi"
      },
      "source": [
        "model.save(\"test.h5\")"
      ],
      "execution_count": null,
      "outputs": []
    }
  ]
}